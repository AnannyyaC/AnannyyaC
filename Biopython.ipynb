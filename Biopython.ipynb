{
  "nbformat": 4,
  "nbformat_minor": 0,
  "metadata": {
    "colab": {
      "name": "Biopython",
      "provenance": [],
      "collapsed_sections": [],
      "authorship_tag": "ABX9TyPdD4cqY2C68u9EZPe7kCL1",
      "include_colab_link": true
    },
    "kernelspec": {
      "name": "python3",
      "display_name": "Python 3"
    },
    "language_info": {
      "name": "python"
    }
  },
  "cells": [
    {
      "cell_type": "markdown",
      "metadata": {
        "id": "view-in-github",
        "colab_type": "text"
      },
      "source": [
        "<a href=\"https://colab.research.google.com/github/AnannyyaC/AnannyyaC/blob/main/Biopython.ipynb\" target=\"_parent\"><img src=\"https://colab.research.google.com/assets/colab-badge.svg\" alt=\"Open In Colab\"/></a>"
      ]
    },
    {
      "cell_type": "code",
      "execution_count": 1,
      "metadata": {
        "colab": {
          "base_uri": "https://localhost:8080/"
        },
        "id": "6QzW18IODb8i",
        "outputId": "2d8b0ac2-ccc8-461b-a5f2-a146a0601a5e"
      },
      "outputs": [
        {
          "output_type": "stream",
          "name": "stdout",
          "text": [
            "Looking in indexes: https://pypi.org/simple, https://us-python.pkg.dev/colab-wheels/public/simple/\n",
            "Collecting Biopython\n",
            "  Downloading biopython-1.79-cp37-cp37m-manylinux_2_5_x86_64.manylinux1_x86_64.whl (2.3 MB)\n",
            "\u001b[K     |████████████████████████████████| 2.3 MB 6.8 MB/s \n",
            "\u001b[?25hRequirement already satisfied: numpy in /usr/local/lib/python3.7/dist-packages (from Biopython) (1.21.6)\n",
            "Installing collected packages: Biopython\n",
            "Successfully installed Biopython-1.79\n"
          ]
        }
      ],
      "source": [
        "! pip install Biopython\n"
      ]
    },
    {
      "cell_type": "code",
      "source": [
        "from Bio.Seq import Seq"
      ],
      "metadata": {
        "id": "tcUf9_dEEAT6"
      },
      "execution_count": 2,
      "outputs": []
    },
    {
      "cell_type": "code",
      "source": [
        "DNA = Seq(\"ATCCGAGCTAGTGACCTTG\")\n",
        "print(DNA)\n",
        "print(DNA.complement())\n",
        "print(DNA.reverse_complement())"
      ],
      "metadata": {
        "colab": {
          "base_uri": "https://localhost:8080/"
        },
        "id": "ofdphleaE97O",
        "outputId": "acf81d82-a4d4-478e-aaae-49f4bfa89a94"
      },
      "execution_count": 5,
      "outputs": [
        {
          "output_type": "stream",
          "name": "stdout",
          "text": [
            "ATCCGAGCTAGTGACCTTG\n",
            "TAGGCTCGATCACTGGAAC\n",
            "CAAGGTCACTAGCTCGGAT\n"
          ]
        }
      ]
    },
    {
      "cell_type": "code",
      "source": [
        "from Bio import SeqIO\n",
        "for sequences in SeqIO.parse(\"sequence.fasta\", \"fasta\"):\n",
        "  print(sequences.id)\n",
        "  print(repr(sequences.seq))\n",
        "  print(len(sequences))\n"
      ],
      "metadata": {
        "colab": {
          "base_uri": "https://localhost:8080/"
        },
        "id": "8obOsSFQGNZa",
        "outputId": "0c83925a-a740-4de9-8c90-9d1ee96363a4"
      },
      "execution_count": 7,
      "outputs": [
        {
          "output_type": "stream",
          "name": "stdout",
          "text": [
            "BAP25800.1\n",
            "Seq('MSVERTFLPNGNYNIKSIFSDSLYLNPVSGSLTFSNESSANNQKWNVEYMAENR...EKI')\n",
            "146\n"
          ]
        }
      ]
    },
    {
      "cell_type": "code",
      "source": [
        "print(sequences.seq)"
      ],
      "metadata": {
        "colab": {
          "base_uri": "https://localhost:8080/"
        },
        "id": "6bVEZIjMHjcA",
        "outputId": "2892303e-7a35-4bda-9e50-ce78499833f9"
      },
      "execution_count": 9,
      "outputs": [
        {
          "output_type": "stream",
          "name": "stdout",
          "text": [
            "MSVERTFLPNGNYNIKSIFSDSLYLNPVSGSLTFSNESSANNQKWNVEYMAENRCFKISNVAEPNKYLSYDNFGFISLDSLSNRCYWFPIKIAVNTYIMLSLNKVNELDYAWDIYDTNENILSQPLLLLPNFDIYNSNQMFKLEKI\n"
          ]
        }
      ]
    }
  ]
}